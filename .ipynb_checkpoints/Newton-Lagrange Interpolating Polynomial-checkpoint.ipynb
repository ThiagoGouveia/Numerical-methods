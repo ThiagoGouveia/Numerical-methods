{
 "cells": [
  {
   "cell_type": "markdown",
   "metadata": {},
   "source": [
    "## Forma de Lagrange e Forma de Newton\n",
    "### Disciplina de Algoritmos Numéricos - 2021/1\n",
    "#### Aluno: Thiago Rodrigues Gouveia da Silva\n"
   ]
  },
  {
   "cell_type": "markdown",
   "metadata": {},
   "source": [
    "##### Esse notebook tem o intuito de apresentar alguns dos algoritmos de interpolação:\n",
    "1.  Lagrange\n",
    "2.  Newton"
   ]
  },
  {
   "cell_type": "code",
   "execution_count": 1,
   "metadata": {},
   "outputs": [],
   "source": [
    "import sys\n",
    "import numpy as np\n",
    "import pandas as pd\n",
    "import matplotlib.pyplot as plt\n",
    "\n",
    "plt.style.use('seaborn-poster')\n",
    "\n",
    "%matplotlib inline"
   ]
  },
  {
   "cell_type": "code",
   "execution_count": 2,
   "metadata": {},
   "outputs": [],
   "source": [
    "def polinomioLagrange(n,x,y,z):\n",
    "    resultado = 0\n",
    "    for i in range(n):\n",
    "        p = 1\n",
    "        for j in range(n):\n",
    "            if i != j:\n",
    "                p = p * (z - x[j])/(x[i] - x[j])\n",
    "        \n",
    "        resultado = resultado + p * y[i]\n",
    "       \n",
    "    return resultado"
   ]
  },
  {
   "cell_type": "code",
   "execution_count": 3,
   "metadata": {},
   "outputs": [],
   "source": [
    "def polinomioNewton(n, x, y, xi):\n",
    "    coef = np.zeros([n, n])\n",
    "    \n",
    "    coef[:,0] = y\n",
    "    \n",
    "    #diferença dividida\n",
    "    for j in range(1,n):\n",
    "        for i in range(n-j):\n",
    "            coef[i][j] = (coef[i+1][j-1] - coef[i][j-1]) / (x[i+j]-x[i])\n",
    "    \n",
    "    coef = coef[0, :]\n",
    "    n = n - 1 \n",
    "    P = coef[n]\n",
    "    \n",
    "    #encontrando a interpolação para xi\n",
    "    for k in range(1, n+1):\n",
    "        P = coef[n-k] + (xi -x[n-k]) * P\n",
    "    \n",
    "    return P"
   ]
  },
  {
   "cell_type": "markdown",
   "metadata": {},
   "source": [
    "#### Usuário deve escolher o grau e os valores de x e y"
   ]
  },
  {
   "cell_type": "code",
   "execution_count": 4,
   "metadata": {
    "scrolled": true
   },
   "outputs": [
    {
     "name": "stdout",
     "output_type": "stream",
     "text": [
      "Selecione o grau do seu polinômio: 4\n",
      "x( 0 ):\n",
      "2\n",
      "y( 0 ):\n",
      "3\n",
      "x( 1 ):\n",
      "2\n",
      "y( 1 ):\n",
      "3\n",
      "x( 2 ):\n",
      "5\n",
      "y( 2 ):\n",
      "4\n",
      "x( 3 ):\n",
      "3\n",
      "y( 3 ):\n",
      "2\n"
     ]
    }
   ],
   "source": [
    "n = int(input(\"Selecione o grau do seu polinômio: \"))\n",
    "     \n",
    "x = np.zeros(n)\n",
    "y = np.zeros(n)\n",
    "\n",
    "for i in range(n):\n",
    "    print(\"x(\",i,\"):\")\n",
    "    x[i] = input()\n",
    "    print(\"y(\",i,\"):\")\n",
    "    y[i] = input()"
   ]
  },
  {
   "cell_type": "markdown",
   "metadata": {},
   "source": [
    "## Usuário deve escolher entre os dois métodos.\n",
    "##### Se escolher de Lagrange seleciona xi, faz o método de interpolação e retorna o P(x)\n",
    "##### Se escolher de Newton seleciona a quantidade de pontos, e pergunta ao usuário os pontos. Ao final, constroi o dataframe com x e p(x)"
   ]
  },
  {
   "cell_type": "code",
   "execution_count": 9,
   "metadata": {},
   "outputs": [
    {
     "name": "stdout",
     "output_type": "stream",
     "text": [
      "Escolha entre Lagrange e Newton\n",
      "Newton\n",
      "Quantos pontos deseja adicionar: 2\n",
      "Selecione um x para P(x): 1\n",
      "Selecione um x para P(x): 2\n",
      "     X  P(x)\n",
      "0  1.0   NaN\n",
      "1  2.0   NaN\n"
     ]
    },
    {
     "name": "stderr",
     "output_type": "stream",
     "text": [
      "C:\\Users\\thiag\\anaconda3\\lib\\site-packages\\ipykernel_launcher.py:9: RuntimeWarning: invalid value encountered in double_scalars\n",
      "  if __name__ == '__main__':\n"
     ]
    }
   ],
   "source": [
    "escolha = input(\"Escolha entre Lagrange e Newton\\n\")\n",
    "\n",
    "if(escolha == 'Lagrange'):\n",
    "    xi = float(input(\"Selecione um x para P(x): \"))\n",
    "    P = polinomioLagrange(n, x, y, xi)\n",
    "    \n",
    "    x_series = pd.Series(x)\n",
    "    y_series = pd.Series(y)\n",
    "    df = pd.concat([x_series, y_series], axis=1)\n",
    "    df.columns = ['X', 'Y']\n",
    "    print(df)\n",
    "    print(\"P: \",P)\n",
    "elif(escolha == 'Newton'):\n",
    "    quantidadePontos = int(input(\"Quantos pontos deseja adicionar: \"))\n",
    "    xi = np.zeros([quantidadePontos])\n",
    "    \n",
    "    for i in range(quantidadePontos):\n",
    "        xi[i] = float(input(\"Selecione um x para P(x): \"))\n",
    "                \n",
    "    P = polinomioNewton(n, x, y, xi)\n",
    "    x_series = pd.Series(xi)\n",
    "    p_x = pd.Series(P)\n",
    "    df = pd.concat([x_series, p_x], axis=1)\n",
    "    df.columns = ['X', 'P(x)']\n",
    "    print(df)\n",
    "else:\n",
    "    sys.exit(\"Método escolhido não existe\")"
   ]
  },
  {
   "cell_type": "markdown",
   "metadata": {},
   "source": [
    "#### Plotagem dos pontos:"
   ]
  },
  {
   "cell_type": "code",
   "execution_count": 6,
   "metadata": {},
   "outputs": [
    {
     "data": {
      "text/plain": [
       "[<matplotlib.lines.Line2D at 0x1d553d3dd08>]"
      ]
     },
     "execution_count": 6,
     "metadata": {},
     "output_type": "execute_result"
    },
    {
     "data": {
      "image/png": "[encoded data removed]",
      "text/plain": [
       "<Figure size 1440x864 with 1 Axes>"
      ]
     },
     "metadata": {
      "needs_background": "light"
     },
     "output_type": "display_data"
    }
   ],
   "source": [
    "plt.figure(figsize = (20, 12))\n",
    "plt.plot(x, y, 'bo')\n",
    "plt.plot(xi, P, color='red')"
   ]
  },
  {
   "cell_type": "code",
   "execution_count": null,
   "metadata": {},
   "outputs": [],
   "source": []
  },
  {
   "cell_type": "code",
   "execution_count": null,
   "metadata": {},
   "outputs": [],
   "source": []
  }
 ],
 "metadata": {
  "kernelspec": {
   "display_name": "Python 3",
   "language": "python",
   "name": "python3"
  },
  "language_info": {
   "codemirror_mode": {
    "name": "ipython",
    "version": 3
   },
   "file_extension": ".py",
   "mimetype": "text/x-python",
   "name": "python",
   "nbconvert_exporter": "python",
   "pygments_lexer": "ipython3",
   "version": "3.7.6"
  }
 },
 "nbformat": 4,
 "nbformat_minor": 4
}
