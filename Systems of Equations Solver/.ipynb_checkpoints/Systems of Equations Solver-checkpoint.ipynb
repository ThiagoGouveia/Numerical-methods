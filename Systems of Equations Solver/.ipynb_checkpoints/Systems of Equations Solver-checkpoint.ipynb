{
 "cells": [
  {
   "cell_type": "markdown",
   "metadata": {},
   "source": [
    "## Soluções de Sistemas Lineares - Métodos Diretos\n",
    "### Disciplina de Algoritmos Numéricos - 2021/1\n",
    "#### Aluno: Thiago Rodrigues Gouveia da Silva\n",
    "\n",
    "\n",
    "\n"
   ]
  },
  {
   "cell_type": "markdown",
   "metadata": {},
   "source": [
    "##### Esse notebook tem o intuito de apresentar alguns dos métodos de Soluções de Sistemas Lineares, são eles:\n",
    "1.  Substituições sucessivas\n",
    "2.  Substituições retroativas\n",
    "3.  Eliminação de Gauss\n",
    "4.  Eliminação de Gauss com pivoteamento\n",
    "5.  Decomposição LU"
   ]
  },
  {
   "cell_type": "code",
   "execution_count": 2,
   "metadata": {},
   "outputs": [],
   "source": [
    "#vetorização\n",
    "import numpy as np "
   ]
  },
  {
   "cell_type": "markdown",
   "metadata": {},
   "source": [
    "A função abaixo tem como intuito resolver o sistema triagular superior **Ux = d** pelas substituições retroativas\n",
    "Para isso teremos os parâmetros de entrada:\n",
    "\n",
    "* **n**, ordem da matriz ou números de incógnitas \n",
    "* **U**, matriz triangular superior\n",
    "* **d**, vetor independente\n",
    "\n",
    "E o parâmetro x será a saída com os valores de x<sub>1</sub>...x<sub>n</sub>"
   ]
  },
  {
   "cell_type": "code",
   "execution_count": 3,
   "metadata": {},
   "outputs": [],
   "source": [
    "def backSubstitution(n,U,d):\n",
    "    x = d/U.diagonal()\n",
    "    \n",
    "    for i in range(n-1, -1,-1):\n",
    "        \n",
    "        Soma = 0\n",
    "        \n",
    "        for j in range(i+1,n,1):\n",
    "            Soma = Soma + U[i][j] * x[j]\n",
    "        x[i] = (d[i] - Soma) / U[i][i]\n",
    "    \n",
    "    return x"
   ]
  },
  {
   "cell_type": "markdown",
   "metadata": {},
   "source": [
    "A função abaixo tem como intuito resolver o sistema triagular inferior **Lx = c** pelas substituições sucessivas\n",
    "Para isso teremos os parâmetros de entrada:\n",
    "\n",
    "* **n**, ordem da matriz ou números de incógnitas \n",
    "* **L**, matriz triangular inferior\n",
    "* **c**, vetor independente\n",
    "\n",
    "E o parâmetro x será a saída com os valores de x<sub>1</sub>...x<sub>n</sub>"
   ]
  },
  {
   "cell_type": "code",
   "execution_count": 4,
   "metadata": {},
   "outputs": [],
   "source": [
    "def forwardSubstitution(n,L,c):\n",
    "    #creat output array\n",
    "    x = np.zeros((n,), dtype='f') \n",
    "    #get x1 result\n",
    "    x[0] = c[0]/L[0][0] \n",
    "\n",
    "    j = 0\n",
    "    for i in range(1, n, 1):\n",
    "        soma = 0\n",
    "        for j in range(0, i-1, 1):\n",
    "            soma = soma + L[i][j] * x[j]\n",
    "        #get x2...xn\n",
    "        x[i] = (c[i] - soma) / L[i][j]\n",
    "        \n",
    "    return x"
   ]
  },
  {
   "cell_type": "markdown",
   "metadata": {},
   "source": [
    "A função abaixo tem como intuito resolver o sistema linear por eliminação de gauss.\n",
    "Para isso teremos os parâmetros de entrada:\n",
    "\n",
    " \n",
    "* **A**, matriz \n",
    "* **n**, ordem da matriz ou números de incógnitas\n",
    "* **b**, vetor independente\n",
    "\n",
    "Para encontrar o resultado são utilizados os seguintes passos:\n",
    "1. Encontrar uma matriz triangular superior através da matriz A\n",
    "2. Utilizar o sistema de substituição retroativo para encontrar os valores de x<sub>1</sub>...x<sub>n</sub>"
   ]
  },
  {
   "cell_type": "code",
   "execution_count": 5,
   "metadata": {},
   "outputs": [],
   "source": [
    "def gaussElimination(A,b,n):\n",
    "    \n",
    "    #Pivot line\n",
    "    for k in range(0,n-1,1):\n",
    "        #Pivot line + 1\n",
    "        for i in range(k+1, n,1):\n",
    "            m = (-1) * A[i][k] / A[k][k]\n",
    "            for j in range (k, n, 1):\n",
    "                A[i][j] = A[i][j] + m * A[k][j]\n",
    "            b[i] = b[i] + m * b[k] \n",
    "    \n",
    "    \n",
    "    return backSubstitution(n, A, b)"
   ]
  },
  {
   "cell_type": "markdown",
   "metadata": {},
   "source": [
    "A função abaixo tem como intuito resolver o sistema linear por eliminação de gauss.\n",
    "Para isso teremos os parâmetros de entrada:\n",
    "\n",
    " \n",
    "* **A**, matriz \n",
    "* **n**, ordem da matriz ou números de incógnitas\n",
    "* **b**, vetor independente\n",
    "\n",
    "Para encontrar o resultado são utilizados os seguintes passos:\n",
    "1. Encotrar o maior valor em uma determinada coluna na matriz A e inverter sua linha com a linha pivô daquela coluna \n",
    "2. Zerar os valores abaixo desse pivô utilizando Gauss\n",
    "3. Repetir esses passos até que seja encontrada uma matriz triangular superior\n",
    "4. Utilizar o sistema de substituição retroativo para encontrar os valores de x<sub>1</sub>...x<sub>n</sub>\n"
   ]
  },
  {
   "cell_type": "code",
   "execution_count": 6,
   "metadata": {},
   "outputs": [],
   "source": [
    "def gaussPivot(A,b,n):\n",
    "    \n",
    "    for k in range(0,n-1,1):\n",
    "        #find pivot\n",
    "        maior = abs(A[k][k])\n",
    "        for i in range(k+1, n, 1):\n",
    "            if abs(A[i][k]) > maior:\n",
    "                maior = abs(A[i][k])\n",
    "                r = i\n",
    "            else: \n",
    "                r = k\n",
    "        #line switching\n",
    "        for i in range(0, n, 1):\n",
    "            v = A[k][i]\n",
    "            A[k][i] = A[r][i]\n",
    "            A[r][i] = v \n",
    "        \n",
    "        v = b[k]\n",
    "        b[k] = b[r]\n",
    "        b[r] = v\n",
    "        \n",
    "        #regular Gauss elimination\n",
    "        for i in range(k+1, n, 1):\n",
    "            \n",
    "            m = (-1) * A[i][k] / A[k][k]\n",
    "            for j in range (k, n, 1):\n",
    "                A[i][j] = A[i][j] + m * A[k][j] \n",
    "                \n",
    "                \n",
    "            b[i] = b[i] + m * b[k]\n",
    "                  \n",
    "    return backSubstitution(n, A, b)"
   ]
  },
  {
   "cell_type": "markdown",
   "metadata": {},
   "source": [
    "A função abaixo tem como intuito resolver o sistema linear por eliminação de gauss.\n",
    "Para isso teremos os parâmetros de entrada:\n",
    "\n",
    " \n",
    "* **A**, matriz \n",
    "* **n**, ordem da matriz ou números de incógnitas\n",
    "* **b**, vetor independente\n",
    "\n",
    "Para encontrar o resultado são utilizados os seguintes passos:\n",
    "\n",
    "1. Criar a matriz identidade\n",
    "2. Decompor a matriz A\n",
    "3. Extrair U e L de A\n",
    "4. Multiplica P e b\n",
    "5. Calcula Ly = Pb ->  y = L<sup>-1</sup> * Pb\n",
    "6. Calcula Ux = y ->  x = U<sup>-1</sup> * y"
   ]
  },
  {
   "cell_type": "code",
   "execution_count": 7,
   "metadata": {},
   "outputs": [],
   "source": [
    "import copy\n",
    "\n",
    "def gaussLU(A,b,n):\n",
    "    # identity array\n",
    "    P = np.identity(n) \n",
    "    \n",
    "    for j in range(0, n-1, 1):\n",
    "        p = j\n",
    "        max = A[j][j]\n",
    "        for k in range(j+1, n, 1):\n",
    "            if abs(A[k][j]) > max:\n",
    "                max = abs(A[k][j])\n",
    "                p = k\n",
    "        if(j != p):\n",
    "            for k in range(0, n, 1):\n",
    "                t = A[j][k]\n",
    "                A[j][k] = A[p][k]\n",
    "                A[p][k] = t\n",
    "            \n",
    "            t = copy.deepcopy(P[j])\n",
    "            P[j] = copy.deepcopy(P[p])\n",
    "            P[p] = copy.deepcopy(t)\n",
    "        \n",
    "        \n",
    "        if abs(A[j][j]) != 0:\n",
    "            for i in range(j+1, n, 1):\n",
    "                m = A[i][j] / A[j][j]\n",
    "                A[i][j] = m\n",
    "                for k in range(j+1, n, 1):\n",
    "                    A[i][k] = A[i][k] - m * A[j][k]\n",
    "    \n",
    "    #Extracting L from A\n",
    "    L = np.tril(A)\n",
    "    #Diagonal fill with 1's\n",
    "    np.fill_diagonal(L, 1)\n",
    "    #Extracting U from A\n",
    "    U = np.triu(A)\n",
    "    \n",
    "    #mult P * b\n",
    "    Pb = np.matmul(P, b)\n",
    "    \n",
    "    #mult L^-1 * Pb\n",
    "    y = np.matmul(np.linalg.inv(L), Pb)\n",
    "    #mult U^-1 * Pb\n",
    "    x = np.matmul(np.linalg.inv(U), y)\n",
    "\n",
    "    return x       \n",
    "            "
   ]
  },
  {
   "cell_type": "markdown",
   "metadata": {},
   "source": [
    "Criação da matriz A e do vetor independente b, com o auxílio da biblioteca numpy"
   ]
  },
  {
   "cell_type": "code",
   "execution_count": 8,
   "metadata": {},
   "outputs": [],
   "source": [
    "n = 3  \n",
    "A = np.array([[1, -3, 2], [-2, 8, -1], [4, -6, 5]], dtype='f')\n",
    "b = np.array([11, -15, 29], dtype='f')"
   ]
  },
  {
   "cell_type": "markdown",
   "metadata": {},
   "source": [
    "Resultado da eliminação de Gauss utilizando a os valores inicializados acima"
   ]
  },
  {
   "cell_type": "code",
   "execution_count": 9,
   "metadata": {},
   "outputs": [
    {
     "name": "stdout",
     "output_type": "stream",
     "text": [
      "[ 2. -1.  3.]\n"
     ]
    }
   ],
   "source": [
    "res = gaussElimination(A,b,n)\n",
    "print(res)"
   ]
  },
  {
   "cell_type": "markdown",
   "metadata": {},
   "source": [
    "Resultado da eliminação de Gauss com pivoteamento utilizando a os valores inicializados acima"
   ]
  },
  {
   "cell_type": "code",
   "execution_count": 10,
   "metadata": {
    "scrolled": true
   },
   "outputs": [
    {
     "name": "stdout",
     "output_type": "stream",
     "text": [
      "[ 2. -1.  3.]\n"
     ]
    }
   ],
   "source": [
    "res = gaussPivot(A,b,n)\n",
    "print(res)"
   ]
  },
  {
   "cell_type": "markdown",
   "metadata": {},
   "source": [
    "Resultado da Decomposição LU utilizando a os valores inicializados acima"
   ]
  },
  {
   "cell_type": "code",
   "execution_count": 13,
   "metadata": {},
   "outputs": [
    {
     "ename": "TypeError",
     "evalue": "Invalid shape (3,) for image data",
     "output_type": "error",
     "traceback": [
      "\u001b[1;31m---------------------------------------------------------------------------\u001b[0m",
      "\u001b[1;31mTypeError\u001b[0m                                 Traceback (most recent call last)",
      "\u001b[1;32m<ipython-input-13-2265b2bd9982>\u001b[0m in \u001b[0;36m<module>\u001b[1;34m\u001b[0m\n\u001b[0;32m      1\u001b[0m \u001b[0mres\u001b[0m \u001b[1;33m=\u001b[0m \u001b[0mgaussLU\u001b[0m\u001b[1;33m(\u001b[0m\u001b[0mA\u001b[0m\u001b[1;33m,\u001b[0m\u001b[0mb\u001b[0m\u001b[1;33m,\u001b[0m\u001b[0mn\u001b[0m\u001b[1;33m)\u001b[0m\u001b[1;33m\u001b[0m\u001b[1;33m\u001b[0m\u001b[0m\n\u001b[0;32m      2\u001b[0m \u001b[1;32mimport\u001b[0m \u001b[0mmatplotlib\u001b[0m\u001b[1;33m.\u001b[0m\u001b[0mpyplot\u001b[0m \u001b[1;32mas\u001b[0m \u001b[0mplt\u001b[0m\u001b[1;33m\u001b[0m\u001b[1;33m\u001b[0m\u001b[0m\n\u001b[1;32m----> 3\u001b[1;33m \u001b[0mplt\u001b[0m\u001b[1;33m.\u001b[0m\u001b[0mimshow\u001b[0m\u001b[1;33m(\u001b[0m\u001b[0mres\u001b[0m\u001b[1;33m)\u001b[0m\u001b[1;33m\u001b[0m\u001b[1;33m\u001b[0m\u001b[0m\n\u001b[0m\u001b[0;32m      4\u001b[0m \u001b[0mplt\u001b[0m\u001b[1;33m.\u001b[0m\u001b[0mcolorbar\u001b[0m\u001b[1;33m(\u001b[0m\u001b[1;33m)\u001b[0m\u001b[1;33m\u001b[0m\u001b[1;33m\u001b[0m\u001b[0m\n\u001b[0;32m      5\u001b[0m \u001b[0mplt\u001b[0m\u001b[1;33m.\u001b[0m\u001b[0mshow\u001b[0m\u001b[1;33m(\u001b[0m\u001b[1;33m)\u001b[0m\u001b[1;33m\u001b[0m\u001b[1;33m\u001b[0m\u001b[0m\n",
      "\u001b[1;32m~\\anaconda3\\lib\\site-packages\\matplotlib\\pyplot.py\u001b[0m in \u001b[0;36mimshow\u001b[1;34m(X, cmap, norm, aspect, interpolation, alpha, vmin, vmax, origin, extent, shape, filternorm, filterrad, imlim, resample, url, data, **kwargs)\u001b[0m\n\u001b[0;32m   2682\u001b[0m         \u001b[0mfilternorm\u001b[0m\u001b[1;33m=\u001b[0m\u001b[0mfilternorm\u001b[0m\u001b[1;33m,\u001b[0m \u001b[0mfilterrad\u001b[0m\u001b[1;33m=\u001b[0m\u001b[0mfilterrad\u001b[0m\u001b[1;33m,\u001b[0m \u001b[0mimlim\u001b[0m\u001b[1;33m=\u001b[0m\u001b[0mimlim\u001b[0m\u001b[1;33m,\u001b[0m\u001b[1;33m\u001b[0m\u001b[1;33m\u001b[0m\u001b[0m\n\u001b[0;32m   2683\u001b[0m         resample=resample, url=url, **({\"data\": data} if data is not\n\u001b[1;32m-> 2684\u001b[1;33m         None else {}), **kwargs)\n\u001b[0m\u001b[0;32m   2685\u001b[0m     \u001b[0msci\u001b[0m\u001b[1;33m(\u001b[0m\u001b[0m__ret\u001b[0m\u001b[1;33m)\u001b[0m\u001b[1;33m\u001b[0m\u001b[1;33m\u001b[0m\u001b[0m\n\u001b[0;32m   2686\u001b[0m     \u001b[1;32mreturn\u001b[0m \u001b[0m__ret\u001b[0m\u001b[1;33m\u001b[0m\u001b[1;33m\u001b[0m\u001b[0m\n",
      "\u001b[1;32m~\\anaconda3\\lib\\site-packages\\matplotlib\\__init__.py\u001b[0m in \u001b[0;36minner\u001b[1;34m(ax, data, *args, **kwargs)\u001b[0m\n\u001b[0;32m   1597\u001b[0m     \u001b[1;32mdef\u001b[0m \u001b[0minner\u001b[0m\u001b[1;33m(\u001b[0m\u001b[0max\u001b[0m\u001b[1;33m,\u001b[0m \u001b[1;33m*\u001b[0m\u001b[0margs\u001b[0m\u001b[1;33m,\u001b[0m \u001b[0mdata\u001b[0m\u001b[1;33m=\u001b[0m\u001b[1;32mNone\u001b[0m\u001b[1;33m,\u001b[0m \u001b[1;33m**\u001b[0m\u001b[0mkwargs\u001b[0m\u001b[1;33m)\u001b[0m\u001b[1;33m:\u001b[0m\u001b[1;33m\u001b[0m\u001b[1;33m\u001b[0m\u001b[0m\n\u001b[0;32m   1598\u001b[0m         \u001b[1;32mif\u001b[0m \u001b[0mdata\u001b[0m \u001b[1;32mis\u001b[0m \u001b[1;32mNone\u001b[0m\u001b[1;33m:\u001b[0m\u001b[1;33m\u001b[0m\u001b[1;33m\u001b[0m\u001b[0m\n\u001b[1;32m-> 1599\u001b[1;33m             \u001b[1;32mreturn\u001b[0m \u001b[0mfunc\u001b[0m\u001b[1;33m(\u001b[0m\u001b[0max\u001b[0m\u001b[1;33m,\u001b[0m \u001b[1;33m*\u001b[0m\u001b[0mmap\u001b[0m\u001b[1;33m(\u001b[0m\u001b[0msanitize_sequence\u001b[0m\u001b[1;33m,\u001b[0m \u001b[0margs\u001b[0m\u001b[1;33m)\u001b[0m\u001b[1;33m,\u001b[0m \u001b[1;33m**\u001b[0m\u001b[0mkwargs\u001b[0m\u001b[1;33m)\u001b[0m\u001b[1;33m\u001b[0m\u001b[1;33m\u001b[0m\u001b[0m\n\u001b[0m\u001b[0;32m   1600\u001b[0m \u001b[1;33m\u001b[0m\u001b[0m\n\u001b[0;32m   1601\u001b[0m         \u001b[0mbound\u001b[0m \u001b[1;33m=\u001b[0m \u001b[0mnew_sig\u001b[0m\u001b[1;33m.\u001b[0m\u001b[0mbind\u001b[0m\u001b[1;33m(\u001b[0m\u001b[0max\u001b[0m\u001b[1;33m,\u001b[0m \u001b[1;33m*\u001b[0m\u001b[0margs\u001b[0m\u001b[1;33m,\u001b[0m \u001b[1;33m**\u001b[0m\u001b[0mkwargs\u001b[0m\u001b[1;33m)\u001b[0m\u001b[1;33m\u001b[0m\u001b[1;33m\u001b[0m\u001b[0m\n",
      "\u001b[1;32m~\\anaconda3\\lib\\site-packages\\matplotlib\\cbook\\deprecation.py\u001b[0m in \u001b[0;36mwrapper\u001b[1;34m(*args, **kwargs)\u001b[0m\n\u001b[0;32m    367\u001b[0m                 \u001b[1;34mf\"%(removal)s.  If any parameter follows {name!r}, they \"\u001b[0m\u001b[1;33m\u001b[0m\u001b[1;33m\u001b[0m\u001b[0m\n\u001b[0;32m    368\u001b[0m                 f\"should be pass as keyword, not positionally.\")\n\u001b[1;32m--> 369\u001b[1;33m         \u001b[1;32mreturn\u001b[0m \u001b[0mfunc\u001b[0m\u001b[1;33m(\u001b[0m\u001b[1;33m*\u001b[0m\u001b[0margs\u001b[0m\u001b[1;33m,\u001b[0m \u001b[1;33m**\u001b[0m\u001b[0mkwargs\u001b[0m\u001b[1;33m)\u001b[0m\u001b[1;33m\u001b[0m\u001b[1;33m\u001b[0m\u001b[0m\n\u001b[0m\u001b[0;32m    370\u001b[0m \u001b[1;33m\u001b[0m\u001b[0m\n\u001b[0;32m    371\u001b[0m     \u001b[1;32mreturn\u001b[0m \u001b[0mwrapper\u001b[0m\u001b[1;33m\u001b[0m\u001b[1;33m\u001b[0m\u001b[0m\n",
      "\u001b[1;32m~\\anaconda3\\lib\\site-packages\\matplotlib\\cbook\\deprecation.py\u001b[0m in \u001b[0;36mwrapper\u001b[1;34m(*args, **kwargs)\u001b[0m\n\u001b[0;32m    367\u001b[0m                 \u001b[1;34mf\"%(removal)s.  If any parameter follows {name!r}, they \"\u001b[0m\u001b[1;33m\u001b[0m\u001b[1;33m\u001b[0m\u001b[0m\n\u001b[0;32m    368\u001b[0m                 f\"should be pass as keyword, not positionally.\")\n\u001b[1;32m--> 369\u001b[1;33m         \u001b[1;32mreturn\u001b[0m \u001b[0mfunc\u001b[0m\u001b[1;33m(\u001b[0m\u001b[1;33m*\u001b[0m\u001b[0margs\u001b[0m\u001b[1;33m,\u001b[0m \u001b[1;33m**\u001b[0m\u001b[0mkwargs\u001b[0m\u001b[1;33m)\u001b[0m\u001b[1;33m\u001b[0m\u001b[1;33m\u001b[0m\u001b[0m\n\u001b[0m\u001b[0;32m    370\u001b[0m \u001b[1;33m\u001b[0m\u001b[0m\n\u001b[0;32m    371\u001b[0m     \u001b[1;32mreturn\u001b[0m \u001b[0mwrapper\u001b[0m\u001b[1;33m\u001b[0m\u001b[1;33m\u001b[0m\u001b[0m\n",
      "\u001b[1;32m~\\anaconda3\\lib\\site-packages\\matplotlib\\axes\\_axes.py\u001b[0m in \u001b[0;36mimshow\u001b[1;34m(self, X, cmap, norm, aspect, interpolation, alpha, vmin, vmax, origin, extent, shape, filternorm, filterrad, imlim, resample, url, **kwargs)\u001b[0m\n\u001b[0;32m   5677\u001b[0m                               resample=resample, **kwargs)\n\u001b[0;32m   5678\u001b[0m \u001b[1;33m\u001b[0m\u001b[0m\n\u001b[1;32m-> 5679\u001b[1;33m         \u001b[0mim\u001b[0m\u001b[1;33m.\u001b[0m\u001b[0mset_data\u001b[0m\u001b[1;33m(\u001b[0m\u001b[0mX\u001b[0m\u001b[1;33m)\u001b[0m\u001b[1;33m\u001b[0m\u001b[1;33m\u001b[0m\u001b[0m\n\u001b[0m\u001b[0;32m   5680\u001b[0m         \u001b[0mim\u001b[0m\u001b[1;33m.\u001b[0m\u001b[0mset_alpha\u001b[0m\u001b[1;33m(\u001b[0m\u001b[0malpha\u001b[0m\u001b[1;33m)\u001b[0m\u001b[1;33m\u001b[0m\u001b[1;33m\u001b[0m\u001b[0m\n\u001b[0;32m   5681\u001b[0m         \u001b[1;32mif\u001b[0m \u001b[0mim\u001b[0m\u001b[1;33m.\u001b[0m\u001b[0mget_clip_path\u001b[0m\u001b[1;33m(\u001b[0m\u001b[1;33m)\u001b[0m \u001b[1;32mis\u001b[0m \u001b[1;32mNone\u001b[0m\u001b[1;33m:\u001b[0m\u001b[1;33m\u001b[0m\u001b[1;33m\u001b[0m\u001b[0m\n",
      "\u001b[1;32m~\\anaconda3\\lib\\site-packages\\matplotlib\\image.py\u001b[0m in \u001b[0;36mset_data\u001b[1;34m(self, A)\u001b[0m\n\u001b[0;32m    688\u001b[0m                 or self._A.ndim == 3 and self._A.shape[-1] in [3, 4]):\n\u001b[0;32m    689\u001b[0m             raise TypeError(\"Invalid shape {} for image data\"\n\u001b[1;32m--> 690\u001b[1;33m                             .format(self._A.shape))\n\u001b[0m\u001b[0;32m    691\u001b[0m \u001b[1;33m\u001b[0m\u001b[0m\n\u001b[0;32m    692\u001b[0m         \u001b[1;32mif\u001b[0m \u001b[0mself\u001b[0m\u001b[1;33m.\u001b[0m\u001b[0m_A\u001b[0m\u001b[1;33m.\u001b[0m\u001b[0mndim\u001b[0m \u001b[1;33m==\u001b[0m \u001b[1;36m3\u001b[0m\u001b[1;33m:\u001b[0m\u001b[1;33m\u001b[0m\u001b[1;33m\u001b[0m\u001b[0m\n",
      "\u001b[1;31mTypeError\u001b[0m: Invalid shape (3,) for image data"
     ]
    },
    {
     "data": {
      "image/png": "[encoded data removed]",
      "text/plain": [
       "<Figure size 432x288 with 1 Axes>"
      ]
     },
     "metadata": {
      "needs_background": "light"
     },
     "output_type": "display_data"
    }
   ],
   "source": [
    "res = gaussLU(A,b,n)\n",
    "print(res)"
   ]
  },
  {
   "cell_type": "code",
   "execution_count": null,
   "metadata": {},
   "outputs": [],
   "source": []
  }
 ],
 "metadata": {
  "interpreter": {
   "hash": "054341ebc65047489d5a4cf0a8d5bb068d9cdcdb1fd9ccfc67d1a30ce61b778d"
  },
  "kernelspec": {
   "display_name": "Python 3",
   "language": "python",
   "name": "python3"
  },
  "language_info": {
   "codemirror_mode": {
    "name": "ipython",
    "version": 3
   },
   "file_extension": ".py",
   "mimetype": "text/x-python",
   "name": "python",
   "nbconvert_exporter": "python",
   "pygments_lexer": "ipython3",
   "version": "3.7.6"
  }
 },
 "nbformat": 4,
 "nbformat_minor": 4
}
