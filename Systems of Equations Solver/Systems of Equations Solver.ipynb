{
 "cells": [
  {
   "cell_type": "code",
   "execution_count": 29,
   "metadata": {},
   "outputs": [],
   "source": [
    "#Importação da biblioteca numpy que será essencial para a vetorização dos exemplos"
   ]
  },
  {
   "cell_type": "code",
   "execution_count": 2,
   "metadata": {},
   "outputs": [],
   "source": [
    "import numpy as np"
   ]
  },
  {
   "cell_type": "code",
   "execution_count": 4,
   "metadata": {},
   "outputs": [],
   "source": [
    "def backSubstitution(n,U,d):\n",
    "    x = d/U.diagonal()\n",
    "    \n",
    "    for i in range(n-1, -1,-1):\n",
    "        \n",
    "        Soma = 0\n",
    "        \n",
    "        for j in range(i+1,n,1):\n",
    "            Soma = Soma + U[i][j] * x[j]\n",
    "        x[i] = (d[i] - Soma) / U[i][i]\n",
    "    \n",
    "    return x"
   ]
  },
  {
   "cell_type": "code",
   "execution_count": 5,
   "metadata": {},
   "outputs": [],
   "source": [
    "def forwardSubstitution(n,L,c):\n",
    "    x = np.zeros((3,), dtype='f') #creat output array\n",
    "    x[0] = c[0]/L[0][0] #initialize array \n",
    "\n",
    "    j = 0\n",
    "    for i in range(1, n, 1):\n",
    "        soma = 0\n",
    "        for j in range(0, i-1, 1):\n",
    "            soma = soma + L[i][j] * x[j]\n",
    "        \n",
    "        x[i] = (c[i] - soma) / L[i][j]"
   ]
  },
  {
   "cell_type": "code",
   "execution_count": 22,
   "metadata": {},
   "outputs": [],
   "source": [
    "def gaussElimination(A,b,n):\n",
    "    \n",
    "    for k in range(0,n-1,1):\n",
    "        for i in range(k+1, n,1):\n",
    "            m = (-1) * A[i][k] / A[k][k]\n",
    "            for j in range (k, n, 1):\n",
    "                A[i][j] = A[i][j] + m * A[k][j]\n",
    "            b[i] = b[i] + m * b[k] \n",
    "    \n",
    "    \n",
    "    return backSubstitution(n, A, b)"
   ]
  },
  {
   "cell_type": "code",
   "execution_count": 31,
   "metadata": {},
   "outputs": [],
   "source": [
    "def gaussPivot(A,b,n):\n",
    "    \n",
    "    for k in range(0,n-1,1):\n",
    "        \n",
    "        maior = abs(A[k][k])\n",
    "        for i in range(k+1, n, 1):\n",
    "            if abs(A[i][k]) > maior:\n",
    "                maior = abs(A[i][k])\n",
    "                r = i\n",
    "            else: \n",
    "                r = k\n",
    "        \n",
    "        for i in range(0, n, 1):\n",
    "            v = A[k][i]\n",
    "            A[k][i] = A[r][i]\n",
    "            A[r][i] = v \n",
    "        \n",
    "        v = b[k]\n",
    "        b[k] = b[r]\n",
    "        b[r] = v\n",
    "        \n",
    "        for i in range(k+1, n, 1):\n",
    "            \n",
    "            m = (-1) * A[i][k] / A[k][k]\n",
    "            for j in range (k, n, 1):\n",
    "                A[i][j] = A[i][j] + m * A[k][j] \n",
    "                \n",
    "                \n",
    "            b[i] = b[i] + m * b[k]\n",
    "                  \n",
    "    return backSubstitution(n, A, b)"
   ]
  },
  {
   "cell_type": "code",
   "execution_count": 27,
   "metadata": {},
   "outputs": [],
   "source": [
    "n = 3  \n",
    "A = np.array([[1, -3, 2], [-2, 8, -1], [4, -6, 5]], dtype='f')\n",
    "b = np.array([11, -15, 29], dtype='f')"
   ]
  },
  {
   "cell_type": "code",
   "execution_count": 28,
   "metadata": {},
   "outputs": [
    {
     "name": "stdout",
     "output_type": "stream",
     "text": [
      "[ 2. -1.  3.]\n"
     ]
    }
   ],
   "source": [
    "resultado = gaussElimination(A,b,n)\n",
    "print(resultado)\n"
   ]
  },
  {
   "cell_type": "code",
   "execution_count": 25,
   "metadata": {
    "scrolled": true
   },
   "outputs": [
    {
     "name": "stdout",
     "output_type": "stream",
     "text": [
      "[ 2. -1.  3.]\n"
     ]
    }
   ],
   "source": [
    "resultado = gaussPivot(A,b,n)\n",
    "print(resultado)"
   ]
  },
  {
   "cell_type": "code",
   "execution_count": 30,
   "metadata": {},
   "outputs": [
    {
     "name": "stdout",
     "output_type": "stream",
     "text": [
      "[ 1.99999928 -1.          3.00000009]\n"
     ]
    }
   ],
   "source": [
    "resultado = gaussLU(A,b,n)\n",
    "print(resultado)"
   ]
  }
 ],
 "metadata": {
  "kernelspec": {
   "display_name": "Python 3",
   "language": "python",
   "name": "python3"
  },
  "language_info": {
   "codemirror_mode": {
    "name": "ipython",
    "version": 3
   },
   "file_extension": ".py",
   "mimetype": "text/x-python",
   "name": "python",
   "nbconvert_exporter": "python",
   "pygments_lexer": "ipython3",
   "version": "3.7.6"
  }
 },
 "nbformat": 4,
 "nbformat_minor": 4
}
