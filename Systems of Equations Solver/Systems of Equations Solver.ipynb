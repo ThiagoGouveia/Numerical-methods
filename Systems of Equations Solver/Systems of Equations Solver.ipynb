{
 "cells": [
  {
   "cell_type": "markdown",
   "metadata": {},
   "source": [
    "## Soluções de Sistemas Lineares - Métodos Diretos\n",
    "### Disciplina de Algoritmos Numéricos - 2021/1\n",
    "#### Aluno: Thiago Rodrigues Gouveia da Silva\n",
    "\n",
    "\n",
    "\n"
   ]
  },
  {
   "cell_type": "markdown",
   "metadata": {},
   "source": [
    "##### Esse notebook tem o intuito de apresentar alguns dos métodos de Soluções de Sistemas Lineares, são eles:\n",
    "1.  Substituições sucessivas\n",
    "2.  Substituições retroativas\n",
    "3.  Eliminação de Gauss\n",
    "4.  Eliminação de Gauss com pivoteamento\n",
    "5.  Decomposição LU"
   ]
  },
  {
   "cell_type": "code",
   "execution_count": 1741,
   "metadata": {},
   "outputs": [],
   "source": [
    "#vetorização\n",
    "import numpy as np\n",
    "import copy\n",
    "import time"
   ]
  },
  {
   "cell_type": "markdown",
   "metadata": {},
   "source": [
    "A função abaixo tem como intuito resolver o sistema triagular superior **Ux = d** pelas substituições retroativas\n",
    "Para isso teremos os parâmetros de entrada:\n",
    "\n",
    "* **n**, ordem da matriz ou números de incógnitas \n",
    "* **U**, matriz triangular superior\n",
    "* **d**, vetor independente\n",
    "\n",
    "E o parâmetro x será a saída com os valores de x<sub>1</sub>...x<sub>n</sub>"
   ]
  },
  {
   "cell_type": "code",
   "execution_count": 1742,
   "metadata": {},
   "outputs": [],
   "source": [
    "def backSubstitution(n,U,d):\n",
    "    x = d/U.diagonal()\n",
    "    \n",
    "    for i in range(n-1, -1,-1):\n",
    "        \n",
    "        Soma = 0\n",
    "        \n",
    "        for j in range(i+1,n,1):\n",
    "            Soma = Soma + U[i][j] * x[j]\n",
    "        x[i] = (d[i] - Soma) / U[i][i]\n",
    "    \n",
    "    return x"
   ]
  },
  {
   "cell_type": "markdown",
   "metadata": {},
   "source": [
    "A função abaixo tem como intuito resolver o sistema triagular inferior **Lx = c** pelas substituições sucessivas\n",
    "Para isso teremos os parâmetros de entrada:\n",
    "\n",
    "* **n**, ordem da matriz ou números de incógnitas \n",
    "* **L**, matriz triangular inferior\n",
    "* **c**, vetor independente\n",
    "\n",
    "E o parâmetro x será a saída com os valores de x<sub>1</sub>...x<sub>n</sub>"
   ]
  },
  {
   "cell_type": "code",
   "execution_count": 1743,
   "metadata": {},
   "outputs": [],
   "source": [
    "def forwardSubstitution(n,L,c):\n",
    "    #creat output array\n",
    "    x = np.zeros((n,), dtype='f') \n",
    "    #get x1 result\n",
    "    x[0] = c[0]/L[0][0] \n",
    "\n",
    "    j = 0\n",
    "    for i in range(1, n, 1):\n",
    "        soma = 0\n",
    "        for j in range(0, i-1, 1):\n",
    "            soma = soma + L[i][j] * x[j]\n",
    "        #get x2...xn\n",
    "        x[i] = (c[i] - soma) / L[i][j]\n",
    "        \n",
    "    return x"
   ]
  },
  {
   "cell_type": "markdown",
   "metadata": {},
   "source": [
    "A função abaixo tem como intuito resolver o sistema linear por eliminação de gauss.\n",
    "Para isso teremos os parâmetros de entrada:\n",
    "\n",
    " \n",
    "* **A**, matriz \n",
    "* **n**, ordem da matriz ou números de incógnitas\n",
    "* **b**, vetor independente\n",
    "\n",
    "Para encontrar o resultado são utilizados os seguintes passos:\n",
    "1. Encontrar uma matriz triangular superior através da matriz A\n",
    "2. Utilizar o sistema de substituição retroativo para encontrar os valores de x<sub>1</sub>...x<sub>n</sub>"
   ]
  },
  {
   "cell_type": "code",
   "execution_count": 1744,
   "metadata": {},
   "outputs": [],
   "source": [
    "def gaussElimination(A,b,n):\n",
    "    \n",
    "    #Pivot line\n",
    "    for k in range(0,n-1,1):\n",
    "        #Pivot line + 1\n",
    "        for i in range(k+1, n,1):\n",
    "            m = (-1) * A[i][k] / A[k][k]\n",
    "            for j in range (k, n, 1):\n",
    "                A[i][j] = A[i][j] + m * A[k][j]\n",
    "            b[i] = b[i] + m * b[k] \n",
    "    \n",
    "    \n",
    "    return backSubstitution(n, A, b)"
   ]
  },
  {
   "cell_type": "markdown",
   "metadata": {},
   "source": [
    "A função abaixo tem como intuito resolver o sistema linear por eliminação de gauss.\n",
    "Para isso teremos os parâmetros de entrada:\n",
    "\n",
    " \n",
    "* **A**, matriz \n",
    "* **n**, ordem da matriz ou números de incógnitas\n",
    "* **b**, vetor independente\n",
    "\n",
    "Para encontrar o resultado são utilizados os seguintes passos:\n",
    "1. Encotrar o maior valor em uma determinada coluna na matriz A e inverter sua linha com a linha pivô daquela coluna \n",
    "2. Zerar os valores abaixo desse pivô utilizando Gauss\n",
    "3. Repetir esses passos até que seja encontrada uma matriz triangular superior\n",
    "4. Utilizar o sistema de substituição retroativo para encontrar os valores de x<sub>1</sub>...x<sub>n</sub>\n"
   ]
  },
  {
   "cell_type": "code",
   "execution_count": 1745,
   "metadata": {},
   "outputs": [],
   "source": [
    "def gaussPivot(A,b,n):\n",
    "    \n",
    "    for k in range(0,n-1,1):\n",
    "        #find pivot\n",
    "        maior = abs(A[k][k])\n",
    "        for i in range(k+1, n, 1):\n",
    "            if abs(A[i][k]) > maior:\n",
    "                maior = abs(A[i][k])\n",
    "                r = i\n",
    "            else: \n",
    "                r = k\n",
    "        #line switching\n",
    "        for i in range(0, n, 1):\n",
    "            v = A[k][i]\n",
    "            A[k][i] = A[r][i]\n",
    "            A[r][i] = v \n",
    "        \n",
    "        v = b[k]\n",
    "        b[k] = b[r]\n",
    "        b[r] = v\n",
    "        \n",
    "        #regular Gauss elimination\n",
    "        for i in range(k+1, n, 1):\n",
    "            \n",
    "            m = (-1) * A[i][k] / A[k][k]\n",
    "            for j in range (k, n, 1):\n",
    "                A[i][j] = A[i][j] + m * A[k][j] \n",
    "                \n",
    "                \n",
    "            b[i] = b[i] + m * b[k]\n",
    "                  \n",
    "    return backSubstitution(n, A, b)"
   ]
  },
  {
   "cell_type": "markdown",
   "metadata": {},
   "source": [
    "A função abaixo tem como intuito resolver o sistema linear por eliminação de gauss.\n",
    "Para isso teremos os parâmetros de entrada:\n",
    "\n",
    " \n",
    "* **A**, matriz \n",
    "* **n**, ordem da matriz ou números de incógnitas\n",
    "* **b**, vetor independente\n",
    "\n",
    "Para encontrar o resultado são utilizados os seguintes passos:\n",
    "\n",
    "1. Criar a matriz identidade\n",
    "2. Decompor a matriz A\n",
    "3. Extrair U e L de A\n",
    "4. Multiplica P e b\n",
    "5. Calcula Ly = Pb ->  y = L<sup>-1</sup> * Pb\n",
    "6. Calcula Ux = y ->  x = U<sup>-1</sup> * y"
   ]
  },
  {
   "cell_type": "code",
   "execution_count": 1746,
   "metadata": {},
   "outputs": [],
   "source": [
    "def gaussLU(A,b,n):\n",
    "    # identity array\n",
    "    P = np.identity(n)\n",
    "    \n",
    "    for j in range(0, n-1, 1):\n",
    "        p = j\n",
    "        max = A[j][j]\n",
    "        for k in range(j+1, n, 1):\n",
    "            if abs(A[k][j]) > max:\n",
    "                max = abs(A[k][j])\n",
    "                p = k\n",
    "        if(j != p):\n",
    "            for k in range(0, n, 1):\n",
    "                t = A[j][k]\n",
    "                A[j][k] = A[p][k]\n",
    "                A[p][k] = t\n",
    "            \n",
    "            t = copy.deepcopy(P[j])\n",
    "            P[j] = copy.deepcopy(P[p])\n",
    "            P[p] = copy.deepcopy(t)\n",
    "        \n",
    "        \n",
    "        if abs(A[j][j]) != 0:\n",
    "            for i in range(j+1, n, 1):\n",
    "                m = A[i][j] / A[j][j]\n",
    "                A[i][j] = m\n",
    "                for k in range(j+1, n, 1):\n",
    "                    A[i][k] = A[i][k] - m * A[j][k]\n",
    "    \n",
    "    #Extracting L from A\n",
    "    L = np.tril(A)\n",
    "    #Diagonal fill with 1's\n",
    "    np.fill_diagonal(L, 1)\n",
    "    #Extracting U from A\n",
    "    U = np.triu(A)\n",
    "    \n",
    "    #mult P * b\n",
    "    Pb = np.matmul(P, b)\n",
    "    \n",
    "    #mult L^-1 * Pb\n",
    "    y = np.matmul(np.linalg.inv(L), Pb)\n",
    "    #mult U^-1 * Pb\n",
    "    x = np.matmul(np.linalg.inv(U), y)\n",
    "\n",
    "    return x       \n"
   ]
  },
  {
   "cell_type": "markdown",
   "metadata": {},
   "source": [
    "A função abaixo tem como intuito resolver o sistema linear usando o Algoritmo de Jacobi.\n",
    "Para isso teremos os parâmetros de entrada:\n",
    "\n",
    " \n",
    "* **A**, matriz \n",
    "* **n**, ordem da matriz ou números de incógnitas\n",
    "* **b**, vetor independente\n",
    "* **Toler**, tolerância\n",
    "* **iterMax**, número máximo de iterações\n",
    "\n",
    "\n"
   ]
  },
  {
   "cell_type": "code",
   "execution_count": 1747,
   "metadata": {},
   "outputs": [],
   "source": [
    "def Jacobi(n, A, b, Toler, iterMax):\n",
    "    #creat output array\n",
    "    x = np.zeros((n,), dtype='f')\n",
    "    v = np.zeros((n,), dtype='f') \n",
    "    \n",
    "    timeInit = time.time()\n",
    "    \n",
    "    for i in range(n):\n",
    "        x[i] = b[i] / A[i][i]\n",
    "    \n",
    "    Iter = 0\n",
    "    \n",
    "    while True:\n",
    "        Iter = Iter + 1\n",
    "        for i in range(n):\n",
    "            Sum = 0\n",
    "            for j in range(n):\n",
    "                if i != j:\n",
    "                    Sum = Sum + A[i][j] * x[j]\n",
    "            v[i] = (b[i] - Sum) / A[i][i]\n",
    "    \n",
    "        normaNum = 0\n",
    "        normaDen = 0\n",
    "    \n",
    "        for i in range(n):\n",
    "        \n",
    "            t = abs(v[i] - x[i])\n",
    "        \n",
    "            if t > normaNum:\n",
    "                normaNum = t\n",
    "            if abs(v[i]) > normaDen:\n",
    "                normaDen = abs(v[i])\n",
    "            \n",
    "            x[i] = v[i]\n",
    "    \n",
    "        normaRel = normaNum / normaDen\n",
    "        \n",
    "        print(\"Numero de iterações: \", Iter)\n",
    "        print(\"Norma Relativa: \", normaRel)\n",
    "        print(\"Vet: \", x)\n",
    "        \n",
    "        if normaRel <= Toler or Iter >= iterMax:\n",
    "            break\n",
    "    \n",
    "    if normaRel <= Toler:\n",
    "        Info = 0\n",
    "        print(\"Convergiu\")\n",
    "    else:\n",
    "        Info = 1\n",
    "        print(\"Não convergiu\")\n",
    "    \n",
    "    print(\"Tempo de execução: \", time.time() - timeInit)\n",
    "    \n",
    "    return x  "
   ]
  },
  {
   "cell_type": "markdown",
   "metadata": {},
   "source": [
    "A função abaixo tem como intuito resolver o sistema linear usando o Algoritmo de Gauss-Seidel.\n",
    "Para isso teremos os parâmetros de entrada:\n",
    "\n",
    " \n",
    "* **A**, matriz \n",
    "* **n**, ordem da matriz ou números de incógnitas\n",
    "* **b**, vetor independente\n",
    "* **Toler**, tolerância\n",
    "* **iterMax**, número máximo de iterações"
   ]
  },
  {
   "cell_type": "code",
   "execution_count": 1748,
   "metadata": {},
   "outputs": [],
   "source": [
    "def gaussSeidel(n, A, b, Toler, iterMax):\n",
    "    #creat output array\n",
    "    x = np.zeros((n,), dtype='f')\n",
    "    v = np.zeros((n,), dtype='f') \n",
    "    \n",
    "    timeInit = time.time()\n",
    "\n",
    "    for i in range(n):\n",
    "        x[i] = b[i] / A[i][i]\n",
    "    \n",
    "    Iter = 0\n",
    "    \n",
    "    while True:\n",
    "        Iter = Iter + 1\n",
    "        normaNum = 0\n",
    "        normaDen = 0\n",
    "        for i in range(n):\n",
    "            Sum = 0\n",
    "            for j in range(n):\n",
    "                if i != j:\n",
    "                    Sum = Sum + A[i][j] * x[j]\n",
    "            \n",
    "            v[i] = x[i]\n",
    "            x[i] = (b[i] - Sum) / A[i][i]\n",
    "            t = abs(v[i] - x[i])\n",
    "            \n",
    "            if t > normaNum:\n",
    "                normaNum = t\n",
    "            if abs(x[i]) > normaDen:\n",
    "                normaDen = abs(x[i])\n",
    "\n",
    "    \n",
    "        normaRel = normaNum / normaDen\n",
    "        \n",
    "        print(\"Numero de iterações: \", Iter)\n",
    "        print(\"Norma Relativa: \", normaRel)\n",
    "        print(\"Vet: \", x)\n",
    "        \n",
    "        if normaRel <= Toler or Iter >= iterMax:\n",
    "            break\n",
    "    \n",
    "    if normaRel <= Toler:\n",
    "        Info = 0\n",
    "        print(\"Convergiu\")\n",
    "    else:\n",
    "        Info = 1\n",
    "        print(\"Não convergiu\")\n",
    "    \n",
    "    print(\"Tempo de execução: \", time.time() - timeInit)\n",
    "    \n",
    "    return x  "
   ]
  },
  {
   "cell_type": "markdown",
   "metadata": {},
   "source": [
    "Criação da matriz A e do vetor independente b, com o auxílio da biblioteca numpy"
   ]
  },
  {
   "cell_type": "code",
   "execution_count": 1749,
   "metadata": {},
   "outputs": [],
   "source": [
    "n = 3  \n",
    "A = np.array([[1, -3, 2], [-2, 8, -1], [4, -6, 5]], dtype='f')\n",
    "b = np.array([11, -15, 29], dtype='f')"
   ]
  },
  {
   "cell_type": "markdown",
   "metadata": {},
   "source": [
    "Resultado da eliminação de Gauss utilizando a os valores inicializados acima"
   ]
  },
  {
   "cell_type": "code",
   "execution_count": 1750,
   "metadata": {},
   "outputs": [
    {
     "name": "stdout",
     "output_type": "stream",
     "text": [
      "[ 2. -1.  3.]\n"
     ]
    }
   ],
   "source": [
    "res = gaussElimination(A,b,n)\n",
    "print(res)"
   ]
  },
  {
   "cell_type": "markdown",
   "metadata": {},
   "source": [
    "Resultado da eliminação de Gauss com pivoteamento utilizando a os valores inicializados acima"
   ]
  },
  {
   "cell_type": "code",
   "execution_count": 1751,
   "metadata": {
    "scrolled": true
   },
   "outputs": [
    {
     "name": "stdout",
     "output_type": "stream",
     "text": [
      "[ 2. -1.  3.]\n"
     ]
    }
   ],
   "source": [
    "res = gaussPivot(A,b,n)\n",
    "print(res)"
   ]
  },
  {
   "cell_type": "markdown",
   "metadata": {},
   "source": [
    "Resultado da Decomposição LU utilizando a os valores inicializados acima"
   ]
  },
  {
   "cell_type": "code",
   "execution_count": 1752,
   "metadata": {},
   "outputs": [
    {
     "name": "stdout",
     "output_type": "stream",
     "text": [
      "[ 1.99999928 -1.          3.00000009]\n"
     ]
    }
   ],
   "source": [
    "res = gaussLU(A,b,n)\n",
    "print(res)"
   ]
  },
  {
   "cell_type": "markdown",
   "metadata": {},
   "source": [
    "Resultado do Algoritmo de Jacobini utilizando os valores inicializados acima"
   ]
  },
  {
   "cell_type": "code",
   "execution_count": 1753,
   "metadata": {},
   "outputs": [
    {
     "name": "stdout",
     "output_type": "stream",
     "text": [
      "Numero de iterações:  1\n",
      "Norma Relativa:  0.29032257\n",
      "Vet:  [15.5 -1.   3. ]\n",
      "Numero de iterações:  2\n",
      "Norma Relativa:  4.5\n",
      "Vet:  [ 2. -1.  3.]\n",
      "Numero de iterações:  3\n",
      "Norma Relativa:  0.0\n",
      "Vet:  [ 2. -1.  3.]\n",
      "Convergiu\n",
      "Tempo de execução:  0.0009999275207519531\n"
     ]
    }
   ],
   "source": [
    "res = Jacobi(n,A,b,0,50)"
   ]
  },
  {
   "cell_type": "markdown",
   "metadata": {},
   "source": [
    "Resultado do Algoritmo de Gauss-Seidel utilizando os valores inicializados acima"
   ]
  },
  {
   "cell_type": "code",
   "execution_count": 1754,
   "metadata": {},
   "outputs": [
    {
     "name": "stdout",
     "output_type": "stream",
     "text": [
      "Numero de iterações:  1\n",
      "Norma Relativa:  0.29032257\n",
      "Vet:  [15.5 -1.   3. ]\n",
      "Numero de iterações:  2\n",
      "Norma Relativa:  4.5\n",
      "Vet:  [ 2. -1.  3.]\n",
      "Numero de iterações:  3\n",
      "Norma Relativa:  0.0\n",
      "Vet:  [ 2. -1.  3.]\n",
      "Convergiu\n",
      "Tempo de execução:  0.0010004043579101562\n"
     ]
    }
   ],
   "source": [
    "res = gaussSeidel(n,A,b,0,50)"
   ]
  }
 ],
 "metadata": {
  "interpreter": {
   "hash": "054341ebc65047489d5a4cf0a8d5bb068d9cdcdb1fd9ccfc67d1a30ce61b778d"
  },
  "kernelspec": {
   "display_name": "Python 3",
   "language": "python",
   "name": "python3"
  },
  "language_info": {
   "codemirror_mode": {
    "name": "ipython",
    "version": 3
   },
   "file_extension": ".py",
   "mimetype": "text/x-python",
   "name": "python",
   "nbconvert_exporter": "python",
   "pygments_lexer": "ipython3",
   "version": "3.7.6"
  }
 },
 "nbformat": 4,
 "nbformat_minor": 4
}
