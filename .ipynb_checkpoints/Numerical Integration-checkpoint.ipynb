{
 "cells": [
  {
   "cell_type": "code",
   "execution_count": 1,
   "metadata": {},
   "outputs": [],
   "source": [
    "import numpy as np"
   ]
  },
  {
   "cell_type": "markdown",
   "metadata": {},
   "source": [
    "função que irá calcular o polinômino iniciando pelo usuário"
   ]
  },
  {
   "cell_type": "code",
   "execution_count": 2,
   "metadata": {},
   "outputs": [],
   "source": [
    "def polinomio(x, poli):\n",
    "    soma = 0\n",
    "    for i in range(len(poli)):\n",
    "        soma = soma + (poli[i][1] * pow(x, poli[i][0]))\n",
    "    return soma"
   ]
  },
  {
   "cell_type": "markdown",
   "metadata": {},
   "source": [
    "#### Trapézios repetidos"
   ]
  },
  {
   "cell_type": "code",
   "execution_count": 9,
   "metadata": {},
   "outputs": [],
   "source": [
    "def trapeziosRepetidos(h, a, b, poli):\n",
    "    h = (b-a)/m\n",
    "    soma = 0\n",
    "    soma = soma + polinomio(a, poli)\n",
    "    soma = soma + polinomio(m, poli)\n",
    "    \n",
    "    x = a + h\n",
    "    i = 1\n",
    "    while(i < m):\n",
    "        soma = soma + (2 * polinomio(x, poli))\n",
    "        x = x + h\n",
    "        i = i + 1\n",
    "        \n",
    "    itr = (h/2) * soma\n",
    "    return itr"
   ]
  },
  {
   "cell_type": "markdown",
   "metadata": {},
   "source": [
    "#### 1/3 de Simpson repetido"
   ]
  },
  {
   "cell_type": "code",
   "execution_count": 10,
   "metadata": {},
   "outputs": [],
   "source": [
    "def umTerco_SimpsonRepetido(m, a, b, poli):\n",
    "    h = (b-a)/m\n",
    "    soma = 0\n",
    "    soma = soma + polinomio(a, poli)\n",
    "    soma = soma + polinomio(m, poli)\n",
    "    \n",
    "    x = a + h\n",
    "    i = 1\n",
    "    while(i < m):\n",
    "        if i % 2 == 0:\n",
    "            soma = soma + (2 * polinomio(x, poli))\n",
    "        else:\n",
    "            soma = soma + (4 * polinomio(x, poli))\n",
    "        \n",
    "        x = x + h\n",
    "        i = i + 1\n",
    "        \n",
    "    i2r = (h/3) * soma\n",
    "    \n",
    "    return i2r"
   ]
  },
  {
   "cell_type": "markdown",
   "metadata": {},
   "source": [
    "#### 3/8 de Simpson repetido"
   ]
  },
  {
   "cell_type": "code",
   "execution_count": 5,
   "metadata": {},
   "outputs": [],
   "source": [
    "def tresOitavos_SimpsonRepetido(m, a, b, poli):\n",
    "    h = (b-a)/m\n",
    "    soma = 0\n",
    "   \n",
    "    soma = soma + (0 * polinomio(a, poli))\n",
    "    soma = soma + 1 * (polinomio(m, poli))\n",
    "    \n",
    "    x = a + h\n",
    "    i = 1\n",
    "    \n",
    "    while(i < m):\n",
    "        if i % 3 == 0:\n",
    "            soma = soma + (2 * polinomio(x, poli))\n",
    "        else:\n",
    "            soma = soma + (3 * polinomio(x, poli))\n",
    "        \n",
    "        x = x + h\n",
    "        i = i + 1\n",
    "    \n",
    "    i3r = ((3*h) / 8) * soma\n",
    "    \n",
    "    return i3r"
   ]
  },
  {
   "cell_type": "markdown",
   "metadata": {},
   "source": [
    "#### Entrada do polinômio, a, b e m"
   ]
  },
  {
   "cell_type": "code",
   "execution_count": null,
   "metadata": {},
   "outputs": [],
   "source": [
    "grau = int(input(\"Qual o grau do polinômio ? \"))\n",
    "grau = grau + 1\n",
    "poli = np.zeros((grau, 2))\n",
    "\n",
    "#preenche polinômio\n",
    "for i in range(grau):\n",
    "    print(\"coeficiente para \", \"x\", i, \":\")\n",
    "    coeficiente = float(input())\n",
    "    poli[i][0] = i\n",
    "    poli[i][1] = coeficiente\n",
    "    \n",
    "a = int(input(\"Qual o valor de a ?\"))\n",
    "b = int(input(\"Qual o valor de b ?\"))\n",
    "m = int(input(\"Qual o valor de m ?\"))\n"
   ]
  },
  {
   "cell_type": "markdown",
   "metadata": {},
   "source": [
    "#### Escolha do usuário e cálculo da integral"
   ]
  },
  {
   "cell_type": "code",
   "execution_count": 8,
   "metadata": {},
   "outputs": [
    {
     "name": "stdout",
     "output_type": "stream",
     "text": [
      "0 - sair\n",
      "1 - trapézios repetidos\n",
      "2 - 1/3 de Simpson repetido\n",
      "3 - 3/8 de Simpson repetido\n",
      "Qual a sua escolha ? 1\n",
      "valor da integral:  11.940000000000003\n",
      "\n",
      "0 - sair\n",
      "1 - trapézios repetidos\n",
      "2 - 1/3 de Simpson repetido\n",
      "3 - 3/8 de Simpson repetido\n",
      "Qual a sua escolha ? 2\n",
      "valor da integral:  11.293333333333335\n",
      "\n",
      "0 - sair\n",
      "1 - trapézios repetidos\n",
      "2 - 1/3 de Simpson repetido\n",
      "3 - 3/8 de Simpson repetido\n",
      "Qual a sua escolha ? 3\n",
      "valor da integral:  11.397600000000006\n",
      "\n",
      "0 - sair\n",
      "1 - trapézios repetidos\n",
      "2 - 1/3 de Simpson repetido\n",
      "3 - 3/8 de Simpson repetido\n",
      "Qual a sua escolha ? 0\n"
     ]
    }
   ],
   "source": [
    "vIntegral = 0\n",
    "while(True):\n",
    "    print(\"0 - sair\")\n",
    "    print(\"1 - trapézios repetidos\")\n",
    "    print(\"2 - 1/3 de Simpson repetido\")\n",
    "    print(\"3 - 3/8 de Simpson repetido\")\n",
    "    escolha = input(\"Qual a sua escolha ? \")\n",
    "    \n",
    "    if(escolha == \"1\"):\n",
    "        vIntegral = trapeziosRepetidos(m, a, b, poli)\n",
    "    \n",
    "    if(escolha == \"2\"):\n",
    "        vIntegral = umTerco_SimpsonRepetido(m, a, b, poli)\n",
    "    \n",
    "    if(escolha == \"3\"):\n",
    "         vIntegral = tresOitavos_SimpsonRepetido(m, a, b, poli)\n",
    "    \n",
    "    if(escolha == \"0\"):\n",
    "        break\n",
    "        \n",
    "    print(\"valor da integral: \",vIntegral)\n",
    "    print(\"\")\n",
    "        "
   ]
  },
  {
   "cell_type": "code",
   "execution_count": null,
   "metadata": {},
   "outputs": [],
   "source": []
  }
 ],
 "metadata": {
  "kernelspec": {
   "display_name": "Python 3",
   "language": "python",
   "name": "python3"
  },
  "language_info": {
   "codemirror_mode": {
    "name": "ipython",
    "version": 3
   },
   "file_extension": ".py",
   "mimetype": "text/x-python",
   "name": "python",
   "nbconvert_exporter": "python",
   "pygments_lexer": "ipython3",
   "version": "3.7.6"
  }
 },
 "nbformat": 4,
 "nbformat_minor": 4
}
