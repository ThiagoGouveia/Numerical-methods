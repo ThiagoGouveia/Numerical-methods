{
 "cells": [
  {
   "cell_type": "markdown",
   "metadata": {},
   "source": [
    "## Método dos mínimos quadrados\n",
    "### Disciplina de Algoritmos Numéricos - 2021/1\n",
    "#### Aluno: Thiago Rodrigues Gouveia da Silva\n"
   ]
  },
  {
   "cell_type": "markdown",
   "metadata": {},
   "source": [
    "O modelo de Método dos mínimos quadrados apresentado abaixo pode ser usado em uma regressão linear simples, ou um regressão linear múltipla."
   ]
  },
  {
   "cell_type": "code",
   "execution_count": 1,
   "metadata": {},
   "outputs": [],
   "source": [
    "import numpy as np\n",
    "from sklearn.metrics import r2_score\n",
    "import matplotlib.pyplot as plt"
   ]
  },
  {
   "cell_type": "markdown",
   "metadata": {},
   "source": [
    "Abaixo são inicializados dois vetores X e y com valores aleatórios\n",
    "É importante que será utilizado uma equação linear para y"
   ]
  },
  {
   "cell_type": "code",
   "execution_count": 2,
   "metadata": {},
   "outputs": [],
   "source": [
    "X = 10 * np.random.rand(50,1)\n",
    "y = X + np.random.rand(50,1)"
   ]
  },
  {
   "cell_type": "markdown",
   "metadata": {},
   "source": [
    "Para preparar para a equação, é adicionado uma coluna à esqueda de 1's"
   ]
  },
  {
   "cell_type": "code",
   "execution_count": 3,
   "metadata": {},
   "outputs": [],
   "source": [
    "X = np.c_[np.ones((50, 1)), X]"
   ]
  },
  {
   "cell_type": "markdown",
   "metadata": {},
   "source": [
    "O mais importante do algoritmo é calculado usando a fórmula abaixo:\n",
    "#### theta = (X<sup>T</sup>.X)<sup>-1</sup>.X<sup>T</sup>.y\n",
    "É importante salientar que essa fórmula funciona tanto para a forma simples quanto multipla"
   ]
  },
  {
   "cell_type": "code",
   "execution_count": 4,
   "metadata": {},
   "outputs": [],
   "source": [
    "theta = np.linalg.inv(X.T.dot(X)).dot(X.T).dot(y)\n"
   ]
  },
  {
   "cell_type": "markdown",
   "metadata": {},
   "source": [
    "Um novo vetor de x é iniciado para traçar a linha que foi calculado anteriormente"
   ]
  },
  {
   "cell_type": "code",
   "execution_count": 5,
   "metadata": {},
   "outputs": [],
   "source": [
    "xNovo = 10 * np.random.rand(50,1)"
   ]
  },
  {
   "cell_type": "markdown",
   "metadata": {},
   "source": [
    "Para é encontrar o valor de y é necessário somente multiplicar x pelo valor de theta, visto que o objetivo é encontrar uma reta de forma y = theta.X"
   ]
  },
  {
   "cell_type": "code",
   "execution_count": 6,
   "metadata": {},
   "outputs": [],
   "source": [
    "xNovo = np.c_[np.ones((50, 1)), xNovo]\n",
    "yNovo = xNovo.dot(theta)"
   ]
  },
  {
   "cell_type": "markdown",
   "metadata": {},
   "source": [
    "Plotagem dos pontos e a linha calculado "
   ]
  },
  {
   "cell_type": "code",
   "execution_count": 7,
   "metadata": {},
   "outputs": [
    {
     "data": {
      "image/png": "[encoded data removed]",
      "text/plain": [
       "<Figure size 432x288 with 1 Axes>"
      ]
     },
     "metadata": {
      "needs_background": "light"
     },
     "output_type": "display_data"
    }
   ],
   "source": [
    "plt.plot(xNovo[:,1], yNovo, \"red\")\n",
    "plt.plot( X[:,1], y, \"b.\")\n",
    "plt.show()"
   ]
  },
  {
   "cell_type": "markdown",
   "metadata": {},
   "source": [
    "Usando a biblioteca sklearn.metrics é calculado os coeficiente de determinação"
   ]
  },
  {
   "cell_type": "code",
   "execution_count": 8,
   "metadata": {},
   "outputs": [
    {
     "name": "stdout",
     "output_type": "stream",
     "text": [
      "-0.9690461494321472\n"
     ]
    }
   ],
   "source": [
    "r2 = r2_score(y, yNovo)\n",
    "print(r2)"
   ]
  },
  {
   "cell_type": "markdown",
   "metadata": {},
   "source": [
    "O usuário pode avaliar um ponto na reta caso queira."
   ]
  },
  {
   "cell_type": "code",
   "execution_count": null,
   "metadata": {},
   "outputs": [],
   "source": [
    "xUsuario = float(input(\"Digite um valor para x: \"))\n",
    "print(\"Seu valor de X: \", xUsuario)\n",
    "xUsuario = np.c_[np.ones((1, 1)), xUsuario]\n",
    "yUsuario = xUsuario.dot(theta)\n",
    "\n",
    "print(\"Seu valor de y: \", yUsuario[0])"
   ]
  },
  {
   "cell_type": "markdown",
   "metadata": {},
   "source": [
    "O desvio é encontrado através dos seguintes passos:\n",
    "#### 1. cálculo da média do y histórico\n",
    "#### 2. Erro subtraindo o y encontrado pela média do y\n",
    "#### 3. E o desvio padrão do erro\n",
    "\n"
   ]
  },
  {
   "cell_type": "code",
   "execution_count": null,
   "metadata": {},
   "outputs": [],
   "source": [
    "b = np.mean(y)\n",
    "erro = yNovo - b\n",
    "desvio = np.std(erro) \n",
    "print(\"Desvio: \", desvio)"
   ]
  },
  {
   "cell_type": "code",
   "execution_count": null,
   "metadata": {},
   "outputs": [],
   "source": []
  }
 ],
 "metadata": {
  "kernelspec": {
   "display_name": "Python 3",
   "language": "python",
   "name": "python3"
  },
  "language_info": {
   "codemirror_mode": {
    "name": "ipython",
    "version": 3
   },
   "file_extension": ".py",
   "mimetype": "text/x-python",
   "name": "python",
   "nbconvert_exporter": "python",
   "pygments_lexer": "ipython3",
   "version": "3.7.6"
  }
 },
 "nbformat": 4,
 "nbformat_minor": 4
}
