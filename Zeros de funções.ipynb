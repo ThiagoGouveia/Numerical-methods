{
 "cells": [
  {
   "cell_type": "markdown",
   "metadata": {},
   "source": [
    "## Zeros de funções\n",
    "### Disciplina de Algoritmos Numéricos - 2021/1\n",
    "#### Aluno: Thiago Rodrigues Gouveia da Silva\n"
   ]
  },
  {
   "cell_type": "code",
   "execution_count": 165,
   "metadata": {},
   "outputs": [],
   "source": [
    "import numpy as np"
   ]
  },
  {
   "cell_type": "markdown",
   "metadata": {},
   "source": [
    "#### Resolução do polinômio"
   ]
  },
  {
   "cell_type": "code",
   "execution_count": 166,
   "metadata": {},
   "outputs": [],
   "source": [
    "def polinomio(x, poli):\n",
    "    soma = 0\n",
    "    for i in range(len(poli)):\n",
    "        soma = soma + (poli[i][1] * pow(x, poli[i][0]))\n",
    "    return soma"
   ]
  },
  {
   "cell_type": "markdown",
   "metadata": {},
   "source": [
    "#### Resolução da derivada"
   ]
  },
  {
   "cell_type": "code",
   "execution_count": 167,
   "metadata": {},
   "outputs": [],
   "source": [
    "def derivada(x, poli):\n",
    "    soma = 0\n",
    "    for i in range(len(poli)):\n",
    "        exp = poli[i][0] - 1\n",
    "        \n",
    "        if(exp >= 0):\n",
    "            soma = soma + (poli[i][1] * poli[i][0]) * pow(x, exp)\n",
    "    return soma"
   ]
  },
  {
   "cell_type": "markdown",
   "metadata": {},
   "source": [
    "#### Método da bissecção"
   ]
  },
  {
   "cell_type": "code",
   "execution_count": 168,
   "metadata": {},
   "outputs": [],
   "source": [
    "def bisseccao(a, b, E, poli):\n",
    "    Iter = 0\n",
    "    if (polinomio(a, poli) * polinomio(b, poli) >= 0):\n",
    "        print(\"Valor de a e/ou b inválidos\")\n",
    "        return\n",
    "  \n",
    "    \n",
    "    while ((b-a) >= E):\n",
    "        Iter += 1 \n",
    "        \n",
    "        xm = (a + b) / 2\n",
    "        if (polinomio(xm, poli) == 0):\n",
    "            break\n",
    "  \n",
    "        if (polinomio(xm, poli) * polinomio(a, poli) < 0):\n",
    "            b = xm\n",
    "        else:\n",
    "            a = xm\n",
    "             \n",
    "    print(\"raiz = \", xm)\n",
    "    print(\"Iterações = \", Iter)\n",
    "    print(\"epsilon  = \", E)"
   ]
  },
  {
   "cell_type": "markdown",
   "metadata": {},
   "source": [
    "#### Método de Newton"
   ]
  },
  {
   "cell_type": "code",
   "execution_count": 169,
   "metadata": {},
   "outputs": [],
   "source": [
    "def newton(A, E, poli):\n",
    "    Iter = 0\n",
    "    \n",
    "    while abs(polinomio(A, poli) / derivada(A, poli)) >= E:\n",
    "        Iter += 1   \n",
    "        A = A - (polinomio(A, poli) / derivada(A, poli))\n",
    "     \n",
    "    print(\"raiz = \", A)\n",
    "    print(\"Iterações = \", Iter)\n",
    "    print(\"epsilon  = \", E)"
   ]
  },
  {
   "cell_type": "markdown",
   "metadata": {},
   "source": [
    "#### Método da Secante"
   ]
  },
  {
   "cell_type": "code",
   "execution_count": 170,
   "metadata": {},
   "outputs": [],
   "source": [
    "def secante(x0, x1, E, poli):\n",
    "    Iter = 0\n",
    "    \n",
    "    if (polinomio(x0, poli) * polinomio(x1, poli) < 0):\n",
    "        while(True):  \n",
    "            \n",
    "            Iter += 1\n",
    "            \n",
    "            ValorIntermediario = ((x0 * polinomio(x1, poli) - x1 * polinomio(x0, poli)) / (polinomio(x1, poli) - polinomio(x0, poli)))\n",
    "\n",
    "            c = polinomio(x0, poli) * polinomio(ValorIntermediario, poli)\n",
    " \n",
    "            \n",
    "            x0 = x1\n",
    "            x1 = ValorIntermediario\n",
    " \n",
    "            xm = ((x0 * polinomio(x1, poli) - x1 * polinomio(x0, poli)) / (polinomio(x1, poli) - polinomio(x0, poli)))\n",
    "            \n",
    "            if not(c != 0 or abs(xm - ValorIntermediario) > E):\n",
    "                break\n",
    "        \n",
    "        print(\"X = \", ValorIntermediario)\n",
    "        print(\"Iterações = \", Iter)\n",
    "        print(\"epsilon  = \", E)\n",
    "        \n",
    "            \n",
    "    else:\n",
    "        print(\"Não foi possível encontrar a raiz para o intervalo solicitado\")\n"
   ]
  },
  {
   "cell_type": "markdown",
   "metadata": {},
   "source": [
    "#### Entrada usuário\n",
    "1 - O usuário escolhe o grau do polinômio \\\n",
    "2 - o usuário preenche um vetor com os coeficientes do polinômio"
   ]
  },
  {
   "cell_type": "code",
   "execution_count": null,
   "metadata": {
    "scrolled": true
   },
   "outputs": [],
   "source": [
    "grau = int(input(\"Qual o grau do polinômio ? \"))\n",
    "grau = grau + 1\n",
    "poli = np.zeros((grau, 2))\n",
    "\n",
    "for i in range(grau):\n",
    "    print(\"coeficiente para \", \"x\", i, \":\")\n",
    "    coeficiente = float(input())\n",
    "    poli[i][0] = i\n",
    "    poli[i][1] = coeficiente"
   ]
  },
  {
   "cell_type": "markdown",
   "metadata": {},
   "source": [
    "#### Teste método da bissecção"
   ]
  },
  {
   "cell_type": "code",
   "execution_count": null,
   "metadata": {},
   "outputs": [],
   "source": [
    "A = float(input(\"Selecione um valor para A: \"))\n",
    "B = float(input(\"Selecione um valor para B: \"))\n",
    "E = float(input(\"Selecione um valor para epsilon: \"))\n",
    "bisseccao(A, B, E, poli)"
   ]
  },
  {
   "cell_type": "markdown",
   "metadata": {},
   "source": [
    "#### Teste método de Newton"
   ]
  },
  {
   "cell_type": "code",
   "execution_count": null,
   "metadata": {},
   "outputs": [],
   "source": [
    "E = float(input(\"Selecione um valor para epsilon: \"))\n",
    "newton(A, E, poli)"
   ]
  },
  {
   "cell_type": "markdown",
   "metadata": {},
   "source": [
    "#### Teste método da secante"
   ]
  },
  {
   "cell_type": "code",
   "execution_count": null,
   "metadata": {},
   "outputs": [],
   "source": [
    "E = float(input(\"Selecione um valor para epsilon: \"))\n",
    "x0 = float(input(\"Selecione um valor para x0: \"))\n",
    "x1 = float(input(\"Selecione um valor para x1: \"))\n",
    "secante(x0, x1, E, poli)"
   ]
  }
 ],
 "metadata": {
  "kernelspec": {
   "display_name": "Python 3",
   "language": "python",
   "name": "python3"
  },
  "language_info": {
   "codemirror_mode": {
    "name": "ipython",
    "version": 3
   },
   "file_extension": ".py",
   "mimetype": "text/x-python",
   "name": "python",
   "nbconvert_exporter": "python",
   "pygments_lexer": "ipython3",
   "version": "3.7.6"
  }
 },
 "nbformat": 4,
 "nbformat_minor": 4
}
