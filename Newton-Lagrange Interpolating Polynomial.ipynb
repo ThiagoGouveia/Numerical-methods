{
 "cells": [
  {
   "cell_type": "markdown",
   "metadata": {},
   "source": [
    "## Interpolação de Lagrange e Newton\n",
    "### Disciplina de Algoritmos Numéricos - 2021/1\n",
    "#### Aluno: Thiago Rodrigues Gouveia da Silva\n"
   ]
  },
  {
   "cell_type": "markdown",
   "metadata": {},
   "source": [
    "##### Esse notebook tem o intuito de apresentar alguns dos algoritmos de interpolação:\n",
    "1.  Lagrange\n",
    "2.  Newton"
   ]
  },
  {
   "cell_type": "code",
   "execution_count": 1,
   "metadata": {},
   "outputs": [],
   "source": [
    "import sys\n",
    "import numpy as np\n",
    "import pandas as pd\n",
    "import matplotlib.pyplot as plt\n",
    "\n",
    "plt.style.use('seaborn-poster')\n",
    "\n",
    "%matplotlib inline"
   ]
  },
  {
   "cell_type": "code",
   "execution_count": 2,
   "metadata": {},
   "outputs": [],
   "source": [
    "def polinomioLagrange(n,x,y,xi):\n",
    "    L_x = 0\n",
    "    for i in range(n):\n",
    "        p = 1\n",
    "        for j in range(n):\n",
    "            if i != j:\n",
    "                p = p * (xi - x[j])/(x[i] - x[j])\n",
    "        \n",
    "        L_x = L_x + p * y[i]\n",
    "       \n",
    "    return L_x"
   ]
  },
  {
   "cell_type": "code",
   "execution_count": 3,
   "metadata": {},
   "outputs": [],
   "source": [
    "def polinomioNewton(n, x, y, xi):\n",
    "    coef = np.zeros([n, n])\n",
    "    \n",
    "    coef[:,0] = y\n",
    "    \n",
    "    #diferença dividida\n",
    "    for j in range(1,n):\n",
    "        for i in range(n-j):\n",
    "            coef[i][j] = (coef[i+1][j-1] - coef[i][j-1]) / (x[i+j]-x[i])\n",
    "    \n",
    "    coef = coef[0, :]\n",
    "    n = n - 1 \n",
    "    P = coef[n]\n",
    "    \n",
    "    #encontrando a interpolação para xi\n",
    "    for k in range(1, n+1):\n",
    "        P = coef[n-k] + (xi -x[n-k]) * P\n",
    "    \n",
    "    return P"
   ]
  },
  {
   "cell_type": "markdown",
   "metadata": {},
   "source": [
    "#### Usuário deve escolher o grau e os valores de x e y"
   ]
  },
  {
   "cell_type": "code",
   "execution_count": 6,
   "metadata": {
    "scrolled": true
   },
   "outputs": [
    {
     "name": "stdout",
     "output_type": "stream",
     "text": [
      "Selecione o grau do seu polinômio: 2\n",
      "x( 0 ):\n",
      "1\n",
      "y( 0 ):\n",
      "4\n",
      "x( 1 ):\n",
      "5\n",
      "y( 1 ):\n",
      "3\n",
      "x( 2 ):\n",
      "8\n",
      "y( 2 ):\n",
      "4\n"
     ]
    }
   ],
   "source": [
    "n = int(input(\"Selecione o grau do seu polinômio: \"))\n",
    "n = n + 1    \n",
    "x = np.zeros(n)\n",
    "y = np.zeros(n)\n",
    "\n",
    "for i in range(n):\n",
    "    print(\"x(\",i,\"):\")\n",
    "    x[i] = input()\n",
    "    print(\"y(\",i,\"):\")\n",
    "    y[i] = input()"
   ]
  },
  {
   "cell_type": "markdown",
   "metadata": {},
   "source": [
    "### Usuário deve escolher entre os dois métodos.\n",
    "##### Se escolher de Lagrange seleciona xi, faz o método de interpolação e retorna o P(x)\n",
    "##### Se escolher de Newton seleciona a quantidade de pontos, e pergunta ao usuário os pontos. Ao final, constroi o dataframe com x e p(x)"
   ]
  },
  {
   "cell_type": "code",
   "execution_count": 9,
   "metadata": {},
   "outputs": [
    {
     "name": "stdout",
     "output_type": "stream",
     "text": [
      "Escolha entre Lagrange e Newton\n",
      "Newton\n",
      "Selecione um x para P(x): 1\n",
      "Selecione um x para P(x): 2\n",
      "Selecione um x para P(x): 3\n",
      "     X      P(x)\n",
      "0  1.0  4.000000\n",
      "1  2.0  3.500000\n",
      "2  3.0  3.166667\n"
     ]
    }
   ],
   "source": [
    "escolha = input(\"Escolha entre Lagrange e Newton\\n\")\n",
    "\n",
    "if(escolha == 'Lagrange'):\n",
    "    xi = float(input(\"Selecione um x para P(x): \"))\n",
    "    P = polinomioLagrange(n, x, y, xi)\n",
    "    \n",
    "    x_series = pd.Series(x)\n",
    "    y_series = pd.Series(y)\n",
    "    df = pd.concat([x_series, y_series], axis=1)\n",
    "    df.columns = ['X', 'Y']\n",
    "    print(df)\n",
    "    print(\"P: \",P)\n",
    "\n",
    "elif(escolha == 'Newton'):\n",
    "    quantidadePontos = n \n",
    "    xi = np.zeros([quantidadePontos])\n",
    "    \n",
    "    for i in range(quantidadePontos):\n",
    "        xi[i] = float(input(\"Selecione um x para P(x): \"))\n",
    "    \n",
    "    \n",
    "    P = polinomioNewton(n, x, y, xi)\n",
    "    x_series = pd.Series(xi)\n",
    "    p_x = pd.Series(P)\n",
    "    df = pd.concat([x_series, p_x], axis=1)\n",
    "    df.columns = ['X', 'P(x)']\n",
    "    print(df)\n",
    "\n",
    "else:\n",
    "    sys.exit(\"Método escolhido não existe\")"
   ]
  },
  {
   "cell_type": "markdown",
   "metadata": {},
   "source": [
    "#### Plotagem dos pontos:"
   ]
  },
  {
   "cell_type": "code",
   "execution_count": 8,
   "metadata": {},
   "outputs": [
    {
     "data": {
      "text/plain": [
       "[<matplotlib.lines.Line2D at 0x1e8df4bed48>]"
      ]
     },
     "execution_count": 8,
     "metadata": {},
     "output_type": "execute_result"
    },
    {
     "data": {
      "image/png": "[encoded data removed]",
      "text/plain": [
       "<Figure size 1440x864 with 1 Axes>"
      ]
     },
     "metadata": {
      "needs_background": "light"
     },
     "output_type": "display_data"
    }
   ],
   "source": [
    "plt.figure(figsize = (20, 12))\n",
    "plt.plot(x, y, 'bo')\n",
    "xi = np.arange(0, np.amax(x+1), 0.1)\n",
    "yi = np.zeros([len(xi)])\n",
    "\n",
    "for i in range(len(xi)):\n",
    "    if(escolha == 'Lagrange'):\n",
    "        yi[i] = polinomioLagrange(n, x, y, xi[i])\n",
    "    elif(escolha == 'Newton'):\n",
    "        yi = polinomioNewton(n, x, y, xi)\n",
    "    \n",
    "plt.plot(xi, yi, color='red')"
   ]
  },
  {
   "cell_type": "code",
   "execution_count": null,
   "metadata": {},
   "outputs": [],
   "source": []
  }
 ],
 "metadata": {
  "interpreter": {
   "hash": "054341ebc65047489d5a4cf0a8d5bb068d9cdcdb1fd9ccfc67d1a30ce61b778d"
  },
  "kernelspec": {
   "display_name": "Python 3",
   "language": "python",
   "name": "python3"
  },
  "language_info": {
   "codemirror_mode": {
    "name": "ipython",
    "version": 3
   },
   "file_extension": ".py",
   "mimetype": "text/x-python",
   "name": "python",
   "nbconvert_exporter": "python",
   "pygments_lexer": "ipython3",
   "version": "3.7.6"
  }
 },
 "nbformat": 4,
 "nbformat_minor": 4
}
